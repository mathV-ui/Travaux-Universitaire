{
 "cells": [
  {
   "cell_type": "markdown",
   "metadata": {
    "deletable": false,
    "editable": false,
    "run_control": {
     "frozen": true
    }
   },
   "source": [
    "# <center> Etude de communautés dans un réseau social</center>\n",
    "<center> SAE 1.01 / 2022 - 23 </center>\n",
    "\n"
   ]
  },
  {
   "cell_type": "markdown",
   "metadata": {
    "deletable": false,
    "editable": false,
    "run_control": {
     "frozen": true
    }
   },
   "source": [
    "Cette SAE est à faire en **binôme**.\n",
    "\n",
    "**Calendrier**\n",
    "- Un contrôle de 2h en lien avec le contenu de cette SAE aura lieu le mercredi **26 octobre** 2022.\n",
    "- Le projet est à rendre le vendredi **28 octobre** 2022. Les modalités de rendu vous seront précisées par votre enseignant.\n",
    "\n",
    "**Evaluation**\n",
    "- Le projet comptera pour 40% de la note de SAE 1.01. <BR>\n",
    "    Il sera particulièrement tenu compte de la qualité du code, des **commentaires** et **docstrings**, des fonctions de **tests unitaires** pour les fonctions renvoyant des résultats. <BR><BR>\n",
    "    \n",
    "- Le contrôle compte pour 60% de la note finale."
   ]
  },
  {
   "cell_type": "markdown",
   "metadata": {
    "deletable": false,
    "editable": false,
    "run_control": {
     "frozen": true
    }
   },
   "source": [
    "## <center> Sujet </center>\n",
    "\n",
    "Une *communauté* est un ensemble de personnes développant des interactions dans un réseau social.\n",
    "\n",
    "Dans ce projet, on étudie des communautés modélisées sous différentes formes. Pour cela, on développe des fonctions permettant d'extraire des informations relatives à ces réseaux. "
   ]
  },
  {
   "cell_type": "markdown",
   "metadata": {
    "deletable": false,
    "editable": false,
    "run_control": {
     "frozen": true
    }
   },
   "source": [
    "On modélise, dans un premier temps, les interactions entre personnes dans un tableau `amis` de chaînes de caractères contenant les prénoms des membres du réseau et tel que `amis[2*i]` a des interactions avec `amis[2*i+1]`.\n",
    "\n",
    "On suppose que chaque interaction n'est décrite qu'une seule fois dans le tableau, et qu'une personne n'a pas d'interaction avec elle-même.\n",
    "\n",
    "**Exemple** : "
   ]
  },
  {
   "cell_type": "code",
   "execution_count": null,
   "metadata": {
    "deletable": false,
    "editable": false
   },
   "outputs": [],
   "source": [
    "amis = [\"Alice\", \"Bob\", \"Alice\", \"Charlie\", \"Bob\", \"Denis\"]"
   ]
  },
  {
   "cell_type": "markdown",
   "metadata": {
    "deletable": false,
    "editable": false,
    "run_control": {
     "frozen": true
    }
   },
   "source": [
    "Ici, \n",
    "- Alice a des interactions Bob et Charlie, \n",
    "- Bob a des intractions avec Alice et Denis,\n",
    "- Charlie a des interactions avec Alice et\n",
    "- Denis a des interactions avec Bob."
   ]
  },
  {
   "cell_type": "markdown",
   "metadata": {
    "deletable": false,
    "editable": false,
    "run_control": {
     "frozen": true
    }
   },
   "source": [
    "#### Question préliminaire : Modélisation d'un réseau par un tableau\n",
    "\n",
    "Muriel, Yasmine et Joël sont amis. Yasmine est amie avec Thomas. \n",
    "Joël, Nassim, Andrea et Ali sont amis. Thomas est ami de Daria et Carole. Thierry, Axel et Léo sont amis. Léo est ami de Valentin qui est ami d'Andrea.\n",
    "\n",
    "- Construire un tableau `p_amis` qui modélise ce réseau d'amitié en selon le principe qui vient d'être décrit."
   ]
  },
  {
   "cell_type": "code",
   "execution_count": 77,
   "metadata": {},
   "outputs": [],
   "source": [
    "p_amis = [\"Daria\",\"Thomas\",\"Carole\",\"Thomas\",\"Thomas\",\"Daria\",\"Thomas\",\"Carole\",\"Thomas\",\"Yasmine\",\"Yasmine\",\"Muriel\",\"Yasmine\",\"Thomas\",\"Yasmine\",\"Joël\",\"Muriel\",\"Yasmine\",\"Muriel\",\"Joël\",\"Joël\",\"Yasmine\",\"Joël\",\"Muriel\",\"Joël\",\"Nassime\",\"Joël\",\"Ali\",\"Joël\",\"Andrea\",\"Ali\",\"Nassime\",\"Ali\",\"Joël\",\"Ali\",\"Andrea\",\"Nassime\",\"Ali\",\"Nassime\",\"Joël\",\"Nassime\",\"Andrea\",\"Andrea\",\"Joël\",\"Andrea\",\"Nassime\",\"Andrea\",\"Ali\",\"Andrea\",\"Valentin\",\"Valentin\",\"Léo\",\"Valentin\",\"Andrea\",\"Léo\",\"Thierry\",\"Léo\",\"Axel\",\"Léo\",\"Valentin\",\"Thierry\",\"Léo\",\"Thierry\",\"Axel\",\"Axel\",\"Thierry\",\"Axel\",\"Léo\"]"
   ]
  },
  {
   "cell_type": "markdown",
   "metadata": {
    "deletable": false,
    "editable": false,
    "run_control": {
     "frozen": true
    }
   },
   "source": [
    "#### Question 1 : Nombre d'amis d'une personne\n",
    "\n",
    "- Étant donné un tableau `amis`, écrire une fonction `nb_amis(amis, prenom)` qui retourne le nombre d'amis de `prenom` à partir des données du tableau `amis`. "
   ]
  },
  {
   "cell_type": "code",
   "execution_count": 78,
   "metadata": {},
   "outputs": [
    {
     "name": "stdout",
     "output_type": "stream",
     "text": [
      "prenom cible :Joël\n",
      "Joël à 5 amis\n",
      "def nb_amis: ok !\n"
     ]
    }
   ],
   "source": [
    "def nb_amis(p_amis,prenom): #def Nombre d'amis d'une personne\n",
    "    \n",
    "    \"\"\"\n",
    "    >>> taille  est definie par len de p_amis\n",
    "        taille  servira pour la boucle\n",
    "        \n",
    "    >>> i  a 0 et de 2 par 2 pour lire la cible voulu et finir la boucle\n",
    "    \n",
    "    >>> nb  est donc le nombre final a return (nombre d'amis)\n",
    "    \n",
    "        Dans la boucle il y a une condition qui verifie pour chaque (amis[2*i]) si il correspond \"prenom\"\n",
    "        et ajoute +1 a nb si oui\n",
    "        \n",
    "        et return nb\n",
    "    \n",
    "    \"\"\"\n",
    "    \n",
    "    taille = len(p_amis)\n",
    "    i=0\n",
    "    nb=0\n",
    "    \n",
    "    while i < len(p_amis):\n",
    "        if prenom == p_amis[i]:\n",
    "            nb+=1\n",
    "            i+=2\n",
    "        else:\n",
    "            i+=2\n",
    "            \n",
    "    return nb #resultat Nombre d'amis d'une personne\n",
    "    \n",
    "\n",
    "\n",
    "prenom=str(input(\"prenom cible :\")) #entrer une cible\n",
    "nb = nb_amis(p_amis,prenom)         #appel de la def\n",
    "print(prenom,\"à\",nb,\"amis\")         #affichage resultat\n",
    "\n",
    "\n",
    "def test_nb_amis(p_amis):          #def de verification\n",
    "    \"\"\"\n",
    "    verification du script\n",
    "    \"\"\"\n",
    "    assert nb_amis(p_amis,\"Mathis\") == 0\n",
    "    assert nb_amis(p_amis,\"Carole\") == 1\n",
    "    assert nb_amis(p_amis,\"Daria\") == 1\n",
    "    assert nb_amis(p_amis,\"Thierry\") == 2\n",
    "    assert nb_amis(p_amis,\"Axel\") == 2\n",
    "    assert nb_amis(p_amis,\"Muriel\") == 2\n",
    "    assert nb_amis(p_amis,\"Valentin\") == 2\n",
    "    assert nb_amis(p_amis,\"Léo\") == 3\n",
    "    assert nb_amis(p_amis,\"Nassime\") == 3\n",
    "    assert nb_amis(p_amis,\"Ali\") == 3\n",
    "    assert nb_amis(p_amis,\"Yasmine\") == 3\n",
    "    assert nb_amis(p_amis,\"Thomas\") == 3\n",
    "    assert nb_amis(p_amis,\"Andrea\") == 4   \n",
    "    assert nb_amis(p_amis,\"Joël\") == 5\n",
    "    print(\"def nb_amis: ok !\")\n",
    "test_nb_amis(p_amis)               #appel def de verification\n",
    "\n",
    "\n",
    "\n",
    "\n",
    "\n"
   ]
  },
  {
   "cell_type": "markdown",
   "metadata": {
    "deletable": false,
    "editable": false,
    "run_control": {
     "frozen": true
    }
   },
   "source": [
    "#### Question 2 : Nombre de membres d'un réseau social \n",
    "\n",
    "- Ecrire une fonction `taille_reseau(amis)` qui à partir d'un tableau `amis`retourne le nombre de personnes distinctes participant à ce réseau social."
   ]
  },
  {
   "cell_type": "code",
   "execution_count": 79,
   "metadata": {},
   "outputs": [
    {
     "name": "stdout",
     "output_type": "stream",
     "text": [
      "il y a 13 participant\n",
      "def taille_reseau ok !\n"
     ]
    }
   ],
   "source": [
    "def taille_reseau(amis):         #def Nombre de membres d'un réseau social\n",
    "    \n",
    "    \"\"\"\n",
    "    >>> taille  est definie par len de p_amis servira pour la boucle\n",
    "        \n",
    "    >>> i  a 0 et de 2 par 2 pour lire la cible voulu et finir la boucle\n",
    "    \n",
    "        ici on fait un tableau \"nombre\" où l'on va mettre chaque prenom (differant) puis prendre la taille du\n",
    "        tableau pour ensuite le return ( donne le nombre exacte de participant)\n",
    "        \n",
    "        on fait deux boucle ; une qui prend un par un les prenom de p_amis \n",
    "        et une autre qui verifie chaque prenom pris dans p_amis pour savoir si ils sont pas deja mis\n",
    "    \n",
    "    \"\"\"\n",
    "    i=0\n",
    "    taille = len(amis)\n",
    "    nombre = []\n",
    "    nombre.append(amis[i])\n",
    "    \n",
    "    while i < taille :\n",
    "        x=0\n",
    "        sectaille=len(nombre)\n",
    "        while nombre[x]!=amis[i]:\n",
    "            x+=1\n",
    "            if x >= sectaille: \n",
    "                nombre.append(amis[i])\n",
    "                break\n",
    "        i += 1\n",
    "    total =len(nombre)\n",
    "    \n",
    "    return total        #resultat def Nombre de membres d'un réseau social\n",
    "        \n",
    "\n",
    "total = taille_reseau(p_amis)         #appel de la def\n",
    "print(\"il y a\",total,\"participant\")   #affichage resultat\n",
    "\n",
    "\n",
    "def test_taille_reseau(p_amis):      #def de verification\n",
    "    \"\"\"\n",
    "    verification du script\n",
    "    \"\"\"\n",
    "    assert taille_reseau(p_amis) == 13\n",
    "    print(\"def taille_reseau ok !\")\n",
    "test_taille_reseau(p_amis)           #appel def de verification\n",
    "\n",
    "\n",
    "\n",
    "\n"
   ]
  },
  {
   "cell_type": "markdown",
   "metadata": {
    "deletable": false,
    "editable": false,
    "run_control": {
     "frozen": true
    }
   },
   "source": [
    "#### Question 3 :  Lecture des données d'un réseau à partir d'un fichier\n",
    "On suppose que les données sur un réseau social sont stockées dans un fichier CSV de la manière suivante :\n",
    "```\n",
    "prenom1;prenom2\n",
    "prenom3;prenom4\n",
    "prenom5;prenom6\n",
    "...\n",
    "```\n",
    "Autrement dit, chaque ligne du fichier contient une paire de prénoms séparés par un `';'` correspondant à deux personnes ayant des interactions. \n",
    "\n",
    "**NB** : Quatre fichiers CSV de ce type sont fournis dans le répertoire `files/`, il s'agit des fichiers`Communaute1.csv`, `Communaute2.csv`,`Communaute3.csv` et `Communaute4.csv`. \n",
    "Il est recommandé d'en fabriquer d'autres. \n",
    "\n",
    "- Ecrire une fonction `lecture_reseau(path)` prenant en paramètre un chemin vers un tel fichier CSV et retournant un tableau modélisant les interactions entre les personnes du fichier."
   ]
  },
  {
   "cell_type": "code",
   "execution_count": 10,
   "metadata": {
    "scrolled": true
   },
   "outputs": [
    {
     "name": "stdout",
     "output_type": "stream",
     "text": [
      "def lecture_reseau ok !\n"
     ]
    }
   ],
   "source": [
    "def lecture_reseau(path):       #def Lecture des données d'un réseau à partir d'un fichier\n",
    "    \"\"\"\n",
    "   on ouvre le fichier du \"path\" avec read \"r\" \n",
    "   puis avec une boucle, ligne par ligne on split et sprit pour ajouter a \"tableaufinal\"\n",
    "   et apres avoir close le fichier en lecture on return tableaufinal\n",
    "    \"\"\"\n",
    "    tableaufinal=[]\n",
    "    f = open(path, encoding=\"utf-8\", mode=\"r\")\n",
    "    while True :\n",
    "        ligne =f.readline()\n",
    "        if ligne == \"\":\n",
    "            break\n",
    "        ligne=ligne.strip()\n",
    "        ligne=ligne.split(\";\")\n",
    "        tableaufinal.append(ligne[0])\n",
    "        tableaufinal.append(ligne[1])\n",
    "        tableaufinal.append(ligne[1])\n",
    "        tableaufinal.append(ligne[0])\n",
    "\n",
    "    f.close()\n",
    "    return tableaufinal       #revoit le tableau final de la def\n",
    "\n",
    "#path=input()      <== pour pouvoir choisir ton dossier plus facillement\n",
    "\n",
    "path=\"newfiles/Communaute1.csv\"     #choix du fichier \n",
    "p_amis = lecture_reseau(path)    #appel de la def\n",
    "\n",
    "#print(len(p_amis))  #<== pour les asserts\n",
    "\n",
    "# ATTENTION plus le fichier csv est gros a traiter plus les autre exercice auront du mal a traiter le p_amis \n",
    "\n",
    "def test_lecture_reseau(path):  #def de verification\n",
    "    \"\"\"\n",
    "    verification de la def\n",
    "    par la taille len() des resultat\n",
    "    \"\"\"\n",
    "    path=\"newfiles/Communaute4.csv\" \n",
    "    assert len(lecture_reseau(path)) == 273664\n",
    "\n",
    "    path=\"newfiles/Communaute3.csv\" \n",
    "    assert len(lecture_reseau(path)) == 59168\n",
    "\n",
    "    path=\"newfiles/Communaute2.csv\" \n",
    "    assert len(lecture_reseau(path)) == 2092\n",
    "\n",
    "    path=\"newfiles/Communaute1.csv\" \n",
    "    assert len(lecture_reseau(path)) == 272\n",
    "    \n",
    "    print(\"def lecture_reseau ok !\")\n",
    "\n",
    "test_lecture_reseau(path)      #appel def verification\n",
    "\n",
    "\n",
    "\n",
    "\n"
   ]
  },
  {
   "cell_type": "markdown",
   "metadata": {
    "deletable": false,
    "editable": false,
    "run_control": {
     "frozen": true
    }
   },
   "source": [
    "#### Question 4 : Modélisation d'un réseau par un dictionnaire\n",
    "On préfère pour la suite, utiliser une modélisation du réseau social par un dictionnaire dont où les clés sont les prénoms des personnes du réseau et la valeur associé à une clé est le tableau des amis de la personne indiquée par la clé.\n",
    "\n",
    "- A partir d'un tableau `amis` modélisant les interactions entre personnes d'un réseau, écrire une fonction `dico_reseau(amis)` qui retourne un dictionnaire dont les clés sont les prénoms des membres du réseau et les valeurs le tableau de leurs amis."
   ]
  },
  {
   "cell_type": "code",
   "execution_count": 11,
   "metadata": {},
   "outputs": [
    {
     "name": "stdout",
     "output_type": "stream",
     "text": [
      "def dico_reseau ok!\n"
     ]
    }
   ],
   "source": [
    "def dico_reseau(p_amis):       #def Modélisation d'un réseau par un dictionnaire\n",
    "    \"\"\"\n",
    "    dico le dictionnaire a completer et return\n",
    "    tmp1 = p_amis[i] donc l'utilisateur\n",
    "    tmp2 = p_amis[i+1] donc le prenom en interraction avec tmp1\n",
    "    ici tmp2 est un tableau car chaque tmp1 ont plusieur interraction\n",
    "    utilisation d'une boucle for in tant que x = chaque utilisateur tmp1\n",
    "        for in recherche tmp1 (x) dans p_amis et ajoute i+1 puis .append a tmp2\n",
    "            et ajoute tmp2 a dico[x] (dico[utilisateur tmp1])\n",
    "            \n",
    "    return de dico\n",
    "    \"\"\"\n",
    "    i = 0\n",
    "    taille = len(p_amis)\n",
    "    dico = {}\n",
    "    tmp2 = []\n",
    "    while i < taille :\n",
    "        tmp1 = p_amis[i]\n",
    "        dico[tmp1]=tmp2\n",
    "        i+=2\n",
    "    for x in dico :\n",
    "        i=0\n",
    "        tmp2 = []\n",
    "        while i < taille :\n",
    "            if x == p_amis[i]:\n",
    "                tmp2.append(p_amis[i+1])\n",
    "            i += 2\n",
    "        dico[x]=tmp2\n",
    "    return dico             #renvoie le dictionnaire \n",
    "\n",
    "dico_reseau = dico_reseau(p_amis)   #appel de la def\n",
    "#print(len(list(dico_reseau)))\n",
    "\n",
    "\n",
    "\n",
    "\n",
    "# ATTENTION plus le tableau est gros a traiter plus les autre exercice auront du mal a traiter le p_amis \n",
    "\n",
    "# ATTENTION au moin attendre 60 seconde pour le fichier 4\n",
    "\n",
    "def test_dico_reseau():   #def de verification\n",
    "    \"\"\"\n",
    "    verification du script\n",
    "    \"\"\"\n",
    "    assert len(list(dico_reseau)) == 20 or 85 or 946 or 10971 #pour les 4 fichier different\n",
    "    print(\"def dico_reseau ok!\")\n",
    "test_dico_reseau()   #appel de la def\n",
    "\n"
   ]
  },
  {
   "cell_type": "markdown",
   "metadata": {
    "deletable": false,
    "editable": false,
    "run_control": {
     "frozen": true
    }
   },
   "source": [
    "#### Question 5 : Nombre d'amis des personnes les plus populaires\n",
    "\n",
    "- A partir d'un dictionnaire `dico_reseau` modélisant les interactions dans un réseau d'amis, écrire une fonction `nb_amis_plus_pop (dico_reseau)` qui retourne le nombre d'amis des personnes les plus populaires du réseau."
   ]
  },
  {
   "cell_type": "code",
   "execution_count": 8,
   "metadata": {},
   "outputs": [
    {
     "name": "stdout",
     "output_type": "stream",
     "text": [
      "les plus populaires ont 11 max\n",
      "def nb_amis_plus_pop ok!\n"
     ]
    }
   ],
   "source": [
    "def nb_amis_plus_pop(dico_reseau):  #def Nombre d'amis des personnes les plus populaires\n",
    "    \"\"\"\n",
    "    boucle for in qui pour x (chaque clefs de dico_reseau) recherche l'utilisateur avec le plus d'interraction\n",
    "         grace a une simple condition \"si len() de x a plus que (plus)\" alors len() de x est set dans \"plus\"\n",
    "         \n",
    "         puis return de \"plus\"\n",
    "    \"\"\"\n",
    "    plus = 0\n",
    "    for x in dico_reseau :\n",
    "        if plus < len(dico_reseau[x]):\n",
    "            plus = len(dico_reseau[x])\n",
    "            \n",
    "    plus = int(plus)\n",
    "    return plus           #revoie le resultat \n",
    "\n",
    "\n",
    "\n",
    "nb_amis_plus_pop(dico_reseau)   #appel de la def\n",
    "print(\"les plus populaires ont\",nb_amis_plus_pop(dico_reseau),\"max\")  #affichage resultat\n",
    "\n",
    "\n",
    "\n",
    "\n",
    "\n",
    "def test_nb_amis_plus_pop():    #def de verification  \n",
    "    \"\"\"\n",
    "    verification du script\n",
    "    \"\"\"\n",
    "    assert nb_amis_plus_pop(dico_reseau)== 11 #seulement pour le fichier 1\n",
    "    print(\"def nb_amis_plus_pop ok!\")\n",
    "test_nb_amis_plus_pop()   #appel de la def\n",
    "\n"
   ]
  },
  {
   "cell_type": "markdown",
   "metadata": {
    "deletable": false,
    "editable": false,
    "run_control": {
     "frozen": true
    }
   },
   "source": [
    "#### Question 6 : Personnes les plus populaires\n",
    "\n",
    "- A partir d'un dictionnaire `dico_reseau` modélisant les interactions dans un réseau d'amis, écrire une fonction `les_plus_pop (dico_reseau)` qui retourne un tableau contenant les prénoms de toutes les personnes les plus populaires du réseau."
   ]
  },
  {
   "cell_type": "code",
   "execution_count": 7,
   "metadata": {},
   "outputs": [
    {
     "name": "stdout",
     "output_type": "stream",
     "text": [
      "['Rufino', 'Mady', 'Vittorio']\n",
      "def les_plus_pop ok !\n"
     ]
    }
   ],
   "source": [
    "def les_plus_pop(dico_reseau):       #def Personnes les plus populaires\n",
    "    \"\"\"\n",
    "    tabpop est ici le tableau contenant les prenoms des plus populaires ( basé sur ceux qui ont le plus d'amis )\n",
    "    \n",
    "    le premier \"For in\" est simplement la reprise de la question 5*\n",
    "    \n",
    "    le second \"For in\" reprends le resultat de i (premier for in)\n",
    "        et comparre chaque len() de tout les tableau \n",
    "            puis ajoute a tabpop chaque personne ayant le meme nombre d'amis que i\n",
    "            \n",
    "    puis return de tabpop\n",
    "    \"\"\" \n",
    "    i = 0\n",
    "    tabpop = []\n",
    "    for x in dico_reseau :\n",
    "        if i < len(dico_reseau[x]):\n",
    "            i = len(dico_reseau[x]) \n",
    "    for x in dico_reseau :\n",
    "        if i == len(dico_reseau[x]):\n",
    "            tabpop.append(x)          \n",
    "    return tabpop                  #resultat retourner\n",
    "\n",
    "\n",
    "\n",
    "print(les_plus_pop(dico_reseau))   #appel de la def et affichage\n",
    "  \n",
    "    \n",
    "    \n",
    "# ATTENTION plus le tableau (p_amis) est gros a traiter plus l'exercice a du mal a traiter le p_amis \n",
    "\n",
    "\n",
    "\n",
    "def test_les_plus_pop(): #def de verification\n",
    "    \"\"\"\n",
    "    verification du script\n",
    "    \"\"\"\n",
    "    assert len(les_plus_pop(dico_reseau)) == 3   #seulemment pour le fichier 1\n",
    "    print(\"def les_plus_pop ok !\")\n",
    "test_les_plus_pop()  #appel de la def\n",
    "\n",
    "\n"
   ]
  },
  {
   "cell_type": "code",
   "execution_count": null,
   "metadata": {},
   "outputs": [],
   "source": []
  }
 ],
 "metadata": {
  "kernelspec": {
   "display_name": "Python 3 (ipykernel)",
   "language": "python",
   "name": "python3"
  },
  "language_info": {
   "codemirror_mode": {
    "name": "ipython",
    "version": 3
   },
   "file_extension": ".py",
   "mimetype": "text/x-python",
   "name": "python",
   "nbconvert_exporter": "python",
   "pygments_lexer": "ipython3",
   "version": "3.9.12"
  },
  "latex_envs": {
   "LaTeX_envs_menu_present": true,
   "autoclose": false,
   "autocomplete": true,
   "bibliofile": "biblio.bib",
   "cite_by": "apalike",
   "current_citInitial": 1,
   "eqLabelWithNumbers": true,
   "eqNumInitial": 1,
   "hotkeys": {
    "equation": "Ctrl-E",
    "itemize": "Ctrl-I"
   },
   "labels_anchors": false,
   "latex_user_defs": false,
   "report_style_numbering": false,
   "user_envs_cfg": false
  }
 },
 "nbformat": 4,
 "nbformat_minor": 2
}
