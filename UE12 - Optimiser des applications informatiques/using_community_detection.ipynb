{
 "cells": [
  {
   "cell_type": "code",
   "execution_count": 3,
   "id": "d2fca467",
   "metadata": {},
   "outputs": [
    {
     "ename": "SyntaxError",
     "evalue": "invalid syntax (1846989685.py, line 1)",
     "output_type": "error",
     "traceback": [
      "\u001b[1;36m  Input \u001b[1;32mIn [3]\u001b[1;36m\u001b[0m\n\u001b[1;33m    Question 2\u001b[0m\n\u001b[1;37m             ^\u001b[0m\n\u001b[1;31mSyntaxError\u001b[0m\u001b[1;31m:\u001b[0m invalid syntax\n"
     ]
    }
   ],
   "source": [
    "Question 2\n",
    "Comparer théoriquement et expériementalement les fonctions dico_reseau et create_network.\n",
    "\n",
    "\n",
    "la fonction create_network est largement plus rapide car elle l'utilise qu'une seul boucle et renvois un dictionnaire\n",
    "la create_network est donc On\n",
    "\n",
    "Par contre, la fonction dico_reseau est lent car elle appelle d'autre fonction et donc plusieur boucle \n",
    "la fonction dico_reseau est donc On²\n",
    "\n"
   ]
  },
  {
   "cell_type": "code",
   "execution_count": null,
   "id": "f78e9243",
   "metadata": {},
   "outputs": [],
   "source": [
    "Question 11\n",
    "Comparer théoriquement et expérimentalement les deux heuristiques de construction, celle donnée par la fonction find_community_by_decreasing_popularity et celles donnée par la fonction find_community_from_person appliquée à une personne la plus populaire (la recherche de la personne la plus populaire sera prise en compte dans la complexité).\n",
    "\n",
    "la fonction find_community_by_decreasing_popularity appel 3 def donc plusieur boucle, c'est donc On²\n",
    "la fonction find_community_from_person appel 2 def donc plusieur boucle, c'est donc On²\n"
   ]
  }
 ],
 "metadata": {
  "kernelspec": {
   "display_name": "Python 3 (ipykernel)",
   "language": "python",
   "name": "python3"
  },
  "language_info": {
   "codemirror_mode": {
    "name": "ipython",
    "version": 3
   },
   "file_extension": ".py",
   "mimetype": "text/x-python",
   "name": "python",
   "nbconvert_exporter": "python",
   "pygments_lexer": "ipython3",
   "version": "3.9.12"
  }
 },
 "nbformat": 4,
 "nbformat_minor": 5
}
